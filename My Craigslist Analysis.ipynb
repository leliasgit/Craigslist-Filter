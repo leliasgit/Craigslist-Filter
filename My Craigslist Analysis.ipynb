{
 "cells": [
  {
   "cell_type": "code",
   "execution_count": 6,
   "metadata": {
    "collapsed": false
   },
   "outputs": [],
   "source": [
    "from bs4 import BeautifulSoup\n",
    "\n",
    "#build out the loop\n",
    "from time import sleep\n",
    "import re\n",
    "from random import randint #avoid throttling by not sending too many requests one after the other\n",
    "from warnings import warn\n",
    "from time import time\n",
    "from IPython.core.display import clear_output\n",
    "import numpy as np\n",
    "import matplotlib.pyplot as plt\n",
    "\n",
    "from sklearn import feature_extraction, linear_model, model_selection, preprocessing\n",
    "from sklearn.feature_extraction.text import TfidfVectorizer\n",
    "from nltk.corpus import stopwords\n",
    "import string\n",
    "\n",
    "from sklearn.feature_extraction import text as text\n",
    "from sklearn.model_selection import train_test_split\n",
    "from sklearn.naive_bayes import MultinomialNB\n",
    "from sklearn.ensemble import RandomForestClassifier\n",
    "from sklearn.metrics import confusion_matrix"
   ]
  },
  {
   "cell_type": "code",
   "execution_count": 34,
   "metadata": {
    "collapsed": true
   },
   "outputs": [],
   "source": [
    "def upper_counter(x):\n",
    "    count = 0\n",
    "    for word in x.split():\n",
    "        for letter in word:\n",
    "            if letter.isupper():\n",
    "                count += 1\n",
    "    return count"
   ]
  },
  {
   "cell_type": "markdown",
   "metadata": {},
   "source": [
    "## Load post data"
   ]
  },
  {
   "cell_type": "code",
   "execution_count": 7,
   "metadata": {
    "collapsed": true
   },
   "outputs": [],
   "source": [
    "datapath='/Users/lydiaelias/Desktop/Craigslist/'\n",
    "\n",
    "clist2urls=np.loadtxt(datapath+'clist2urls.csv',delimiter=',',dtype='string') #the urls of all the posts\n",
    "clist2ids=np.loadtxt(datapath+'clistids.csv',delimiter=',',dtype='string') #the post ids\n",
    "clist2ids=[clist2ids[x][0].astype(int) for x in range(1,len(clist2ids))]\n",
    "clist2labels=np.loadtxt(datapath+'clist2labels.csv',delimiter=',',dtype='string') #The labels (1=scam, 0=not scam)\n",
    "clist2labels=np.array([clist2labels[x][0] or '-1' for x in range(1,len(clist2labels))])\n",
    "clist2labels=clist2labels.astype(int)\n",
    "\n",
    "#We have to correct a couple that were labeled after the data was taken and were since deleted\n",
    "clist2labels[252]=0\n",
    "clist2labels[265]=0\n",
    "clist2labels[533]=0\n"
   ]
  },
  {
   "cell_type": "markdown",
   "metadata": {},
   "source": [
    "## Scrape html and save it"
   ]
  },
  {
   "cell_type": "markdown",
   "metadata": {},
   "source": [
    "Many links quickly expire or are deleted so it's important to save info"
   ]
  },
  {
   "cell_type": "code",
   "execution_count": null,
   "metadata": {
    "collapsed": true
   },
   "outputs": [],
   "source": [
    "postbodies=[]\n",
    "for i in range(600): #These are very large datasets so we take the first 600\n",
    "    response=get(clist2urls[i][0])\n",
    "    html_soup = BeautifulSoup(response.text, 'html.parser')\n",
    "    post = html_soup.find_all('section', class_= 'body')\n",
    "    postbodies.append(post)\n",
    "    \n",
    "    postbodies=np.save('postbodies.npy') "
   ]
  },
  {
   "cell_type": "code",
   "execution_count": 8,
   "metadata": {
    "collapsed": true
   },
   "outputs": [],
   "source": [
    "postbodies=np.load(datapath+'postbodies.npy')"
   ]
  },
  {
   "cell_type": "markdown",
   "metadata": {},
   "source": [
    "## Extract info"
   ]
  },
  {
   "cell_type": "markdown",
   "metadata": {},
   "source": [
    "getpostinfo is a function written specifically for parsing the html and extracting text of post, title, price, number of images, and location from postbodies"
   ]
  },
  {
   "cell_type": "code",
   "execution_count": 12,
   "metadata": {
    "collapsed": false
   },
   "outputs": [],
   "source": [
    "import os\n",
    "os.chdir(datapath)\n",
    "from getpostinfo import getpostinfo\n",
    "\n",
    "bodytexts,titletexts,prices,nimgs,locs = getpostinfo(postbodies,clist2labels)"
   ]
  },
  {
   "cell_type": "markdown",
   "metadata": {},
   "source": [
    "Besides the above, would like to extract info on whether the post contains the word \"call\" or \"text\" as well as how long the post is"
   ]
  },
  {
   "cell_type": "code",
   "execution_count": 13,
   "metadata": {
    "collapsed": true
   },
   "outputs": [],
   "source": [
    "contactlist=np.zeros(len(bodytexts))\n",
    "bodycount=np.zeros(len(bodytexts))\n",
    "txtinds=[x for x in range(len(bodytexts)) if bodytexts[x,1] not in np.array(['0','2','3'])] #getpostinfo uses 0 for a post without a body, 2 if it has been flagged, and 3 if it has been deleted \n",
    "bodytexts_clean=bodytexts[:,1][txtinds]\n",
    "\n",
    "#Separate the words that are pushed together due to the start of a new line and clean\n",
    "stop_words = stopwords.words('english')\n",
    "for i in range(len(bodytexts_clean)):  \n",
    "      \n",
    "    #Separate words from end of previous line and start of new line by finding where an upper case is preceded by a lowercase    \n",
    "    bodytexts_clean[i]=\"\".join([c for c in bodytexts_clean[i] if c not in string.punctuation])\n",
    "    uppers=np.array([np.char.isupper(x) for x in bodytexts_clean[i]])\n",
    "    lowers=np.array([np.char.islower(x) for x in bodytexts_clean[i]])\n",
    "    upinds=np.where(uppers==True)[0]\n",
    "    badcaps=[x for x in upinds if x!=0 and lowers[x-1]==True]\n",
    "    badcaps=badcaps[::-1]\n",
    "    for j in badcaps:\n",
    "        bodytexts_clean[i]=bodytexts_clean[i][:j] + ' ' + bodytexts_clean[i][j:]\n",
    "        \n",
    "    #Now continue with the cleaning\n",
    "    bodytexts_clean[i]=bodytexts_clean[i].lower()\n",
    "    tokenized = bodytexts_clean[i].split()\n",
    "    tokenized = [item for item in tokenized if item not in stop_words]\n",
    "    bodycount[txtinds[i]]=len(tokenized) #Count number of words in a post\n",
    "    detokenized = \" \".join(tokenized)\n",
    "    bodytexts_clean[i] = detokenized\n",
    "    if detokenized.find(\"call\")>0 or detokenized.find(\"text\")>0: #Find if 'call' or 'text' is in the post as usually scammers prefer email to phone\n",
    "        contactlist[txtinds[i]]=1."
   ]
  },
  {
   "cell_type": "markdown",
   "metadata": {},
   "source": [
    "Find the number of uppercase letters in locations"
   ]
  },
  {
   "cell_type": "code",
   "execution_count": 35,
   "metadata": {
    "collapsed": false
   },
   "outputs": [],
   "source": [
    "upcount=[]\n",
    "for i in range(len(locs)):\n",
    "    locs[i,1]=locs[i,1].replace('(', '').replace(')', '') #Get rid of parentheses\n",
    "    upcount.append(upper_counter(locs[i,1]))"
   ]
  },
  {
   "cell_type": "markdown",
   "metadata": {},
   "source": [
    "## Clean and apply TFIDF to the title texts"
   ]
  },
  {
   "cell_type": "code",
   "execution_count": 15,
   "metadata": {
    "collapsed": false
   },
   "outputs": [],
   "source": [
    "txtinds=[x for x in range(len(titletexts)) if titletexts[x,1] not in np.array(['0','2','3'])]\n",
    "\n",
    "train_texts=titletexts[:,1][txtinds]\n",
    "train_labels=clist2labels[txtinds]\n",
    "\n",
    "#Clean the text and remove english stopwords\n",
    "stop_words = stopwords.words('english')\n",
    "for i in range(len(train_texts)):\n",
    "    train_texts[i]=\"\".join([c for c in train_texts[i] if c not in string.punctuation])\n",
    "    train_texts[i]=train_texts[i].lower()\n",
    "    tokenized = train_texts[i].split()\n",
    "    tokenized = [item for item in tokenized if item not in stop_words]\n",
    "    detokenized = \" \".join(tokenized)\n",
    "    train_texts[i] = detokenized\n",
    "\n",
    "tfidf_vectorizer = TfidfVectorizer()\n",
    "\n",
    "train_vectors = tfidf_vectorizer.fit_transform(train_texts)"
   ]
  },
  {
   "cell_type": "markdown",
   "metadata": {},
   "source": [
    "### Prepare data for random forest"
   ]
  },
  {
   "cell_type": "code",
   "execution_count": 37,
   "metadata": {
    "collapsed": true
   },
   "outputs": [],
   "source": [
    "#Now let's put it all in one big array. Columns will be prices, nimgs, contactlist, body word count, uppercase count, and index\n",
    "feature_array=np.zeros((len(txtinds),6))\n",
    "for i in range(len(txtinds)):\n",
    "    feature_array[i][0]=prices[:,1][txtinds[i]]\n",
    "    feature_array[i][1]=nimgs[:,1][txtinds[i]]\n",
    "    feature_array[i][2]=contactlist[txtinds[i]]\n",
    "    feature_array[i][3]=bodycount[txtinds[i]]\n",
    "    feature_array[i][4]=upcount[txtinds[i]]\n",
    "    feature_array[i][5]=i"
   ]
  },
  {
   "cell_type": "markdown",
   "metadata": {},
   "source": [
    "### Split into a training and testing set"
   ]
  },
  {
   "cell_type": "code",
   "execution_count": 38,
   "metadata": {
    "collapsed": true
   },
   "outputs": [],
   "source": [
    "vec_train_rf,vec_test_rf,lab_train_rf,lab_test_rf=model_selection.train_test_split(feature_array,train_labels,test_size=0.4)\n",
    "\n",
    "#Use the same indices for splitting the tfidf vectors\n",
    "train_inds=vec_train_rf[:,5].astype(int)\n",
    "test_inds=vec_test_rf[:,5].astype(int)"
   ]
  },
  {
   "cell_type": "markdown",
   "metadata": {},
   "source": [
    "## Train the models"
   ]
  },
  {
   "cell_type": "code",
   "execution_count": 43,
   "metadata": {
    "collapsed": true
   },
   "outputs": [],
   "source": [
    "rf = RandomForestClassifier(n_estimators = 1000)\n",
    "rf.fit(vec_train_rf[:,:5],lab_train_rf) #We cut the column with the indices off for training and testing\n",
    "predlabs_rf = rf.predict_proba(vec_test_rf[:,:5])\n",
    "\n",
    "model = MultinomialNB()\n",
    "model.fit(train_vectors[train_inds], train_labels[train_inds])\n",
    "predlabs_nb=model.predict_proba(train_vectors[test_inds])"
   ]
  },
  {
   "cell_type": "code",
   "execution_count": 45,
   "metadata": {
    "collapsed": false
   },
   "outputs": [
    {
     "data": {
      "text/plain": [
       "<matplotlib.text.Text at 0x14d332690>"
      ]
     },
     "execution_count": 45,
     "metadata": {},
     "output_type": "execute_result"
    },
    {
     "data": {
      "image/png": "[encoded data removed]",
      "text/plain": [
       "<matplotlib.figure.Figure at 0x14d2d8810>"
      ]
     },
     "metadata": {
      "needs_background": "light"
     },
     "output_type": "display_data"
    }
   ],
   "source": [
    "plt.figure()\n",
    "plt.hist(predlabs_nb[:,1],alpha=0.5,label='NLP')\n",
    "plt.hist(predlabs_rf[:,1],alpha=0.5,label='RF')\n",
    "plt.xlim([0,1])\n",
    "plt.legend()\n",
    "plt.xlabel('Probability of scam')\n",
    "plt.ylabel('N')"
   ]
  },
  {
   "cell_type": "markdown",
   "metadata": {},
   "source": [
    "There's a good amount of overlap between the two populations, which is encouraging"
   ]
  },
  {
   "cell_type": "markdown",
   "metadata": {},
   "source": [
    "## Decide on probability threshold for scam"
   ]
  },
  {
   "cell_type": "markdown",
   "metadata": {},
   "source": [
    "Enforce that if either the probability from the rf OR from the nb models are above a certain threshold then it is a scam"
   ]
  },
  {
   "cell_type": "code",
   "execution_count": 55,
   "metadata": {
    "collapsed": false
   },
   "outputs": [
    {
     "name": "stdout",
     "output_type": "stream",
     "text": [
      "[168, 16, 16, 17]\n"
     ]
    }
   ],
   "source": [
    "#Let's try a threshold of 0.3\n",
    "thresh=0.3\n",
    "predlabs_binary=np.zeros(len(predlabs_rf))\n",
    "spamind_rf=(predlabs_rf[:,1]>thresh)\n",
    "spamind_nb=(predlabs_nb[:,1]>thresh)\n",
    "predlabs_binary[spamind_rf]=1\n",
    "predlabs_binary[spamind_nb]=1\n",
    "tn, fp, fn, tp =confusion_matrix(lab_test_rf,predlabs_binary).ravel()\n",
    "print [tn, fp, fn, tp]"
   ]
  },
  {
   "cell_type": "markdown",
   "metadata": {},
   "source": [
    "We correctly identify approximately half of scam listings, while only losing <10% of real listings as false positives"
   ]
  },
  {
   "cell_type": "markdown",
   "metadata": {},
   "source": [
    "### AUC-ROC curve"
   ]
  },
  {
   "cell_type": "code",
   "execution_count": 50,
   "metadata": {
    "collapsed": false
   },
   "outputs": [
    {
     "data": {
      "image/png": "[encoded data removed]",
      "text/plain": [
       "<matplotlib.figure.Figure at 0x14d5cd110>"
      ]
     },
     "metadata": {
      "needs_background": "light"
     },
     "output_type": "display_data"
    }
   ],
   "source": [
    "#AUC ROC plot\n",
    "tprs=[]\n",
    "fprs=[]\n",
    "for thresh in np.linspace(0,1,200):\n",
    "    predlabs_binary=np.zeros(len(predlabs_rf))\n",
    "    spamind_rf=(predlabs_rf[:,1]>thresh)\n",
    "    spamind_nb=(predlabs_nb[:,1]>thresh)\n",
    "    predlabs_binary[spamind_rf]=1\n",
    "    predlabs_binary[spamind_nb]=1\n",
    "    tn, fp, fn, tp =confusion_matrix(lab_test_rf,predlabs_binary).ravel()\n",
    "\n",
    "    tpr=np.float(tp)/(tp+fn)\n",
    "    fpr=np.float(fp)/(tn+fp)\n",
    "    tprs.append(tpr)\n",
    "    fprs.append(fpr)\n",
    "    \n",
    "plt.figure()\n",
    "plt.plot(fprs,tprs)\n",
    "plt.plot([0,1],[0,1],linestyle='--')\n",
    "plt.xlabel('FPR')\n",
    "plt.ylabel('TPR')\n",
    "plt.xlim([0,1])\n",
    "plt.ylim([0,1])\n",
    "plt.tight_layout()\n",
    "plt.show()"
   ]
  },
  {
   "cell_type": "code",
   "execution_count": null,
   "metadata": {
    "collapsed": true
   },
   "outputs": [],
   "source": []
  }
 ],
 "metadata": {
  "kernelspec": {
   "display_name": "Python 2",
   "language": "python",
   "name": "python2"
  },
  "language_info": {
   "codemirror_mode": {
    "name": "ipython",
    "version": 2
   },
   "file_extension": ".py",
   "mimetype": "text/x-python",
   "name": "python",
   "nbconvert_exporter": "python",
   "pygments_lexer": "ipython2",
   "version": "2.7.13"
  }
 },
 "nbformat": 4,
 "nbformat_minor": 2
}
